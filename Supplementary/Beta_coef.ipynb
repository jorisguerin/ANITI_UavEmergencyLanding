{
 "cells": [
  {
   "cell_type": "markdown",
   "id": "4debb9a5",
   "metadata": {},
   "source": [
    "# $\\beta$ safety coefficient\n",
    "\n",
    "### A notebook to find the safety coefficient to take into account a 20% uncertainty on the flight height and camera angle in UAVid images."
   ]
  },
  {
   "cell_type": "markdown",
   "id": "61838ed2",
   "metadata": {},
   "source": [
    "#### Imports"
   ]
  },
  {
   "cell_type": "code",
   "execution_count": 1,
   "id": "bfcd89ee",
   "metadata": {},
   "outputs": [],
   "source": [
    "import numpy as np"
   ]
  },
  {
   "cell_type": "markdown",
   "id": "04de974a",
   "metadata": {},
   "source": [
    "#### Variables"
   ]
  },
  {
   "cell_type": "code",
   "execution_count": 2,
   "id": "5889ac0f",
   "metadata": {},
   "outputs": [],
   "source": [
    "sensor_names = [\"Phantom 3 pro\", \"Phantom 4\"]  # Both drones were used while collecting UAVid dataset\n",
    "sensor_params = [[6.17, 4.55, 3.57], [13.2, 8, 8.8]]\n",
    "error_rate = 0.2\n",
    "Alphas = [45, 45 * (1 + error_rate)]\n",
    "Heights = [50000, 50000 * (1 + error_rate)]\n",
    "\n",
    "Im_sizes = [[3840, 2160], [4096, 2160]]"
   ]
  },
  {
   "cell_type": "markdown",
   "id": "566993ea",
   "metadata": {},
   "source": [
    "#### Functions"
   ]
  },
  {
   "cell_type": "code",
   "execution_count": 3,
   "id": "f094c6a6",
   "metadata": {},
   "outputs": [],
   "source": [
    "def compute_pixel_size(row, im_w, im_h, sensor_height, sensor_width,\n",
    "                       flight_height, flight_angle_rad, focal_length):\n",
    "\n",
    "    d = sensor_height * flight_height * np.cos(flight_angle_rad) / focal_length\n",
    "    x = flight_height * np.tan(flight_angle_rad)\n",
    "    di = np.sqrt((flight_height**2) + (x + (0.5 - (row / im_h)) * d) ** 2)\n",
    "    width_mm = sensor_width * di / focal_length\n",
    "    pixel_mm = width_mm / im_w\n",
    "\n",
    "    return pixel_mm"
   ]
  },
  {
   "cell_type": "markdown",
   "id": "02527672",
   "metadata": {},
   "source": [
    "#### Results"
   ]
  },
  {
   "cell_type": "code",
   "execution_count": 4,
   "id": "cd67f086",
   "metadata": {},
   "outputs": [
    {
     "name": "stdout",
     "output_type": "stream",
     "text": [
      "Sensor:  Phantom 3 pro\n",
      "Flight height: 50 m, flight angle: 45 deg\n",
      "Image size:  [3840, 2160]\n",
      "Top pixels: 64.680222 mm\n",
      "Bottom pixels: 45.646842 mm\n",
      "\n",
      "Sensor:  Phantom 3 pro\n",
      "Flight height: 50 m, flight angle: 45 deg\n",
      "Image size:  [4096, 2160]\n",
      "Top pixels: 64.688523 mm\n",
      "Bottom pixels: 45.672296 mm\n",
      "\n",
      "Sensor:  Phantom 3 pro\n",
      "Flight height: 60 m, flight angle: 45 deg\n",
      "Image size:  [3840, 2160]\n",
      "Top pixels: 77.616267 mm\n",
      "Bottom pixels: 54.776210 mm\n",
      "\n",
      "Sensor:  Phantom 3 pro\n",
      "Flight height: 60 m, flight angle: 45 deg\n",
      "Image size:  [4096, 2160]\n",
      "Top pixels: 77.626227 mm\n",
      "Bottom pixels: 54.806755 mm\n",
      "\n",
      "Sensor:  Phantom 3 pro\n",
      "Flight height: 50 m, flight angle: 54 deg\n",
      "Image size:  [3840, 2160]\n",
      "Top pixels: 75.522686 mm\n",
      "Bottom pixels: 56.629387 mm\n",
      "\n",
      "Sensor:  Phantom 3 pro\n",
      "Flight height: 50 m, flight angle: 54 deg\n",
      "Image size:  [4096, 2160]\n",
      "Top pixels: 75.530134 mm\n",
      "Bottom pixels: 56.660467 mm\n",
      "\n",
      "Sensor:  Phantom 3 pro\n",
      "Flight height: 60 m, flight angle: 54 deg\n",
      "Image size:  [3840, 2160]\n",
      "Top pixels: 90.627224 mm\n",
      "Bottom pixels: 67.955265 mm\n",
      "\n",
      "Sensor:  Phantom 3 pro\n",
      "Flight height: 60 m, flight angle: 54 deg\n",
      "Image size:  [4096, 2160]\n",
      "Top pixels: 90.636161 mm\n",
      "Bottom pixels: 67.992561 mm\n",
      "\n",
      "Sensor:  Phantom 4\n",
      "Flight height: 50 m, flight angle: 45 deg\n",
      "Image size:  [3840, 2160]\n",
      "Top pixels: 54.047285 mm\n",
      "Bottom pixels: 41.961938 mm\n",
      "\n",
      "Sensor:  Phantom 4\n",
      "Flight height: 50 m, flight angle: 45 deg\n",
      "Image size:  [4096, 2160]\n",
      "Top pixels: 54.052297 mm\n",
      "Bottom pixels: 41.980305 mm\n",
      "\n",
      "Sensor:  Phantom 4\n",
      "Flight height: 60 m, flight angle: 45 deg\n",
      "Image size:  [3840, 2160]\n",
      "Top pixels: 64.856742 mm\n",
      "Bottom pixels: 50.354325 mm\n",
      "\n",
      "Sensor:  Phantom 4\n",
      "Flight height: 60 m, flight angle: 45 deg\n",
      "Image size:  [4096, 2160]\n",
      "Top pixels: 64.862756 mm\n",
      "Bottom pixels: 50.376366 mm\n",
      "\n",
      "Sensor:  Phantom 4\n",
      "Flight height: 50 m, flight angle: 54 deg\n",
      "Image size:  [3840, 2160]\n",
      "Top pixels: 63.660208 mm\n",
      "Bottom pixels: 51.855285 mm\n",
      "\n",
      "Sensor:  Phantom 4\n",
      "Flight height: 50 m, flight angle: 54 deg\n",
      "Image size:  [4096, 2160]\n",
      "Top pixels: 63.664764 mm\n",
      "Bottom pixels: 51.875474 mm\n",
      "\n",
      "Sensor:  Phantom 4\n",
      "Flight height: 60 m, flight angle: 54 deg\n",
      "Image size:  [3840, 2160]\n",
      "Top pixels: 76.392250 mm\n",
      "Bottom pixels: 62.226342 mm\n",
      "\n",
      "Sensor:  Phantom 4\n",
      "Flight height: 60 m, flight angle: 54 deg\n",
      "Image size:  [4096, 2160]\n",
      "Top pixels: 76.397717 mm\n",
      "Bottom pixels: 62.250569 mm\n",
      "\n",
      "Min top: 54.047285 mm, Max top: 90.636161 mm, Ratio: 1.676979\n",
      "Min bottom: 41.961938 mm, Max bottom: 67.992561 mm, Ratio: 1.620339\n"
     ]
    }
   ],
   "source": [
    "min_top, min_bottom = 1000, 1000\n",
    "max_top, max_bottom = 0, 0\n",
    "for i in range(len(sensor_params)):\n",
    "    for a in Alphas:\n",
    "        for h in Heights:\n",
    "            for i_s in Im_sizes:\n",
    "                print(\"Sensor: \", sensor_names[i])\n",
    "                print(\"Flight height: %i m, flight angle: %i deg\" % (int(h / 1000), int(a)))\n",
    "                print(\"Image size: \", i_s)\n",
    "\n",
    "                step = i_s[0] // 10\n",
    "                pix_mm = compute_pixel_size(2 * step, i_s[1], i_s[0], sensor_params[i][1], sensor_params[i][0],\n",
    "                                            h, np.deg2rad(a), sensor_params[i][2])\n",
    "                if pix_mm > max_top:\n",
    "                    max_top = pix_mm\n",
    "                if pix_mm < min_top:\n",
    "                    min_top = pix_mm\n",
    "                print(\"Top pixels: %f mm\" % pix_mm)\n",
    "                end = i_s[0] // step\n",
    "                pix_mm = compute_pixel_size(end * step, i_s[1], i_s[0], sensor_params[i][1], sensor_params[i][0],\n",
    "                                            h, np.deg2rad(a), sensor_params[i][2])\n",
    "                if pix_mm > max_bottom:\n",
    "                    max_bottom = pix_mm\n",
    "                if pix_mm < min_bottom:\n",
    "                    min_bottom = pix_mm\n",
    "                print(\"Bottom pixels: %f mm\" % pix_mm)\n",
    "                print()\n",
    "print(\"Min top: %f mm, Max top: %f mm, Ratio: %f\" % (min_top, max_top, max_top / min_top))\n",
    "print(\"Min bottom: %f mm, Max bottom: %f mm, Ratio: %f\" % (min_bottom, max_bottom, max_bottom / min_bottom))"
   ]
  }
 ],
 "metadata": {
  "kernelspec": {
   "display_name": "Python 3 (ipykernel)",
   "language": "python",
   "name": "python3"
  },
  "language_info": {
   "codemirror_mode": {
    "name": "ipython",
    "version": 3
   },
   "file_extension": ".py",
   "mimetype": "text/x-python",
   "name": "python",
   "nbconvert_exporter": "python",
   "pygments_lexer": "ipython3",
   "version": "3.8.5"
  }
 },
 "nbformat": 4,
 "nbformat_minor": 5
}
